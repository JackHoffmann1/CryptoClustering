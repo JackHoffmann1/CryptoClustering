{
 "cells": [
  {
   "cell_type": "code",
   "execution_count": null,
   "metadata": {},
   "outputs": [],
   "source": [
    "# Import required libraries and dependencies\n",
    "import pandas as pd\n",
    "from sklearn.cluster import KMeans\n",
    "from sklearn.decomposition import PCA\n",
    "from sklearn.preprocessing import StandardScaler"
   ]
  },
  {
   "cell_type": "code",
   "execution_count": null,
   "metadata": {},
   "outputs": [],
   "source": [
    "# Load the data into a Pandas DataFrame and make the index the \"coin_id\" column.\n",
    "market_data_df = pd.read_csv(\"Resources/crypto_market_data.csv\", index_col=\"coin_id\")\n",
    "\n",
    "# Display sample data\n",
    "market_data_df.head(10)"
   ]
  },
  {
   "cell_type": "code",
   "execution_count": null,
   "metadata": {},
   "outputs": [],
   "source": [
    "# Generate summary statistics\n",
    "market_data_df.describe()"
   ]
  },
  {
   "cell_type": "markdown",
   "metadata": {},
   "source": [
    "### Prepare the Data"
   ]
  },
  {
   "cell_type": "code",
   "execution_count": null,
   "metadata": {},
   "outputs": [],
   "source": [
    "# Use the `StandardScaler()` module from scikit-learn to normalize the data from the CSV file\n",
    "scaler = StandardScaler()\n",
    "#normalize data\n",
    "normalized_data = scaler.fit_transform(market_data_df)"
   ]
  },
  {
   "cell_type": "code",
   "execution_count": null,
   "metadata": {},
   "outputs": [],
   "source": [
    "# Create a DataFrame with the scaled data\n",
    "# Copy the crypto names from the original data\n",
    "# Set the coinid column as index\n",
    "\n",
    "scaled_df = pd.DataFrame(normalized_data,columns=market_data_df.columns,index=market_data_df.index)\n",
    "\n",
    "\n",
    "\n",
    "# Display sample data\n",
    "scaled_df.head()\n"
   ]
  },
  {
   "cell_type": "markdown",
   "metadata": {},
   "source": [
    "### Find the Best Value for k Using the Original Scaled DataFrame."
   ]
  },
  {
   "cell_type": "code",
   "execution_count": null,
   "metadata": {},
   "outputs": [],
   "source": [
    "# Create a list with the number of k-values to try\n",
    "# Use a range from 1 to 11\n",
    "k_values = range(1,12)\n",
    "\n",
    "# Create an empty list to store the inertia values\n",
    "inertia = []\n",
    "\n",
    "# Create a for loop to compute the inertia with each possible value of k\n",
    "for k in k_values:\n",
    "# Inside the loop:\n",
    "# 1. Create a KMeans model using the loop counter for the n_clusters\n",
    "    kmean = KMeans(n_clusters=k,random_state=0)\n",
    "# 2. Fit the model to the data using the scaled DataFrame\n",
    "    kmean.fit(scaled_df)\n",
    "# 3. Append the model.inertia_ to the inertia list\n",
    "    inertia.append(kmean.inertia_)\n",
    "\n",
    "\n",
    "# Create a dictionary with the data to plot the Elbow curve\n",
    "elbowCurve = {'k':k_values, 'inertia':inertia}\n",
    "\n",
    "# Create a DataFrame with the data to plot the Elbow curve\n",
    "elbowDf = pd.DataFrame(elbowCurve)\n",
    "\n",
    "# Display the DataFrame\n",
    "elbowDf"
   ]
  },
  {
   "cell_type": "code",
   "execution_count": null,
   "metadata": {},
   "outputs": [],
   "source": [
    "# Plot a line chart with all the inertia values computed with \n",
    "# the different values of k to visually identify the optimal value for k.\n",
    "elbowDf.plot(x='k',y='inertia',kind='line',marker=\"o\")"
   ]
  },
  {
   "cell_type": "markdown",
   "metadata": {},
   "source": [
    "#### Answer the following question: \n",
    "**Question:** What is the best value for `k`?\n",
    "\n",
    "**Answer:** The best vaule for k would be 4"
   ]
  },
  {
   "cell_type": "markdown",
   "metadata": {},
   "source": [
    "### Cluster Cryptocurrencies with K-means Using the Original Scaled Data."
   ]
  },
  {
   "cell_type": "code",
   "execution_count": null,
   "metadata": {},
   "outputs": [],
   "source": [
    "# Initialize the K-Means model using the best value for k\n",
    "k_value = 4\n",
    "k_means = KMeans(n_clusters=k_value,random_state=0)\n"
   ]
  },
  {
   "cell_type": "code",
   "execution_count": null,
   "metadata": {},
   "outputs": [],
   "source": [
    "# Fit the K-Means model using the scaled data\n",
    "k_means.fit(scaled_df)\n"
   ]
  },
  {
   "cell_type": "code",
   "execution_count": null,
   "metadata": {},
   "outputs": [],
   "source": [
    "# Predict the clusters to group the cryptocurrencies using the scaled data\n",
    "clusters = k_means.predict(scaled_df)\n",
    "\n",
    "# View the resulting array of cluster values.\n",
    "clusters"
   ]
  },
  {
   "cell_type": "code",
   "execution_count": null,
   "metadata": {},
   "outputs": [],
   "source": [
    "# Create a copy of the DataFrame\n",
    "cluster_df = scaled_df.copy()"
   ]
  },
  {
   "cell_type": "code",
   "execution_count": null,
   "metadata": {},
   "outputs": [],
   "source": [
    "# Add a new column to the DataFrame with the predicted clusters\n",
    "cluster_df['Clusters'] = clusters\n",
    "\n",
    "# Display sample data\n",
    "cluster_df.head()"
   ]
  },
  {
   "cell_type": "code",
   "execution_count": null,
   "metadata": {},
   "outputs": [],
   "source": [
    "# Create a scatter plot using Pandas plot by setting \n",
    "# `x=\"price_change_percentage_24h\"` and `y=\"price_change_percentage_7d\"`.\n",
    "# Use \"rainbow\" for the color to better visualize the data.\n",
    "cluster_df.plot.scatter(x='price_change_percentage_24h',y=\"price_change_percentage_7d\",c='Clusters',colormap=\"rainbow\")"
   ]
  },
  {
   "cell_type": "markdown",
   "metadata": {},
   "source": [
    "### Optimize Clusters with Principal Component Analysis."
   ]
  },
  {
   "cell_type": "code",
   "execution_count": null,
   "metadata": {},
   "outputs": [],
   "source": [
    "# Create a PCA model instance and set `n_components=3`.\n",
    "pca = PCA(n_components=3)"
   ]
  },
  {
   "cell_type": "code",
   "execution_count": null,
   "metadata": {},
   "outputs": [],
   "source": [
    "# Use the PCA model with `fit_transform` on the original scaled DataFrame to reduce to three principal components.\n",
    "pca_model = pca.fit_transform(scaled_df)\n",
    "pca_df = pd.DataFrame(data=pca_model, columns=[\"PC1\",\"PC2\",\"PC3\"], index=scaled_df.index)\n",
    "\n",
    "# View the first five rows of the DataFrame. \n",
    "pca_df.head()"
   ]
  },
  {
   "cell_type": "code",
   "execution_count": null,
   "metadata": {},
   "outputs": [],
   "source": [
    "# Retrieve the explained variance to determine how much information  can be attributed to each principal component.\n",
    "ev = pca.explained_variance_ratio_\n",
    "total_ev = ev.sum()\n",
    "#Display explained variance and total explained variance\n",
    "ev,total_ev"
   ]
  },
  {
   "cell_type": "markdown",
   "metadata": {},
   "source": [
    "#### Answer the following question: \n",
    "\n",
    "**Question:** What is the total explained variance of the three principal components?\n",
    "\n",
    "**Answer:** 89.5%"
   ]
  },
  {
   "cell_type": "markdown",
   "metadata": {},
   "source": [
    "### Find the Best Value for k Using the PCA Data"
   ]
  },
  {
   "cell_type": "code",
   "execution_count": null,
   "metadata": {},
   "outputs": [],
   "source": [
    "# Create a list with the number of k-values to try\n",
    "# Use a range from 1 to 11\n",
    "k_values_pca = range(1,12)\n",
    "\n",
    "# Create an empty list to store the inertia values\n",
    "inertia_values_pca = []\n",
    "\n",
    "# Create a for loop to compute the inertia with each possible value of k\n",
    "# Inside the loop: \n",
    "for k in k_values_pca:\n",
    "    # 1. Create a KMeans model using the loop counter for the n_clusters\n",
    "    kmeans_pca = KMeans(n_clusters=k,random_state=0)\n",
    "    # 2. Fit the model to the data using PCA DataFrame.\n",
    "    kmeans_pca.fit(pca_df)\n",
    "    #3. Append the model.inertia_ to the inertia list\n",
    "    inertia_values_pca.append(kmeans_pca.inertia_)\n",
    "\n",
    "# Create a dictionary with the data to plot the Elbow curve\n",
    "# Create a DataFrame with the data to plot the Elbow curve\n",
    "elbow_df_pca = pd.DataFrame({'k': k_values_pca , 'inertia': inertia_values_pca})\n",
    "\n",
    "# Display the DataFrame\n",
    "elbow_df_pca\n"
   ]
  },
  {
   "cell_type": "code",
   "execution_count": null,
   "metadata": {},
   "outputs": [],
   "source": [
    "# Plot a line chart with all the inertia values computed with \n",
    "# the different values of k to visually identify the optimal value for k.\n",
    "elbow_df_pca.plot(x='k',y='inertia',kind='line',marker=\"o\")"
   ]
  },
  {
   "cell_type": "markdown",
   "metadata": {},
   "source": [
    "#### Answer the following questions: \n",
    "* **Question:** What is the best value for `k` when using the PCA data?\n",
    "\n",
    "  * **Answer:**  The best value is 4\n",
    "\n",
    "\n",
    "* **Question:** Does it differ from the best k value found using the original data?\n",
    "\n",
    "  * **Answer:**  No it does not differ"
   ]
  },
  {
   "cell_type": "markdown",
   "metadata": {},
   "source": [
    "### Cluster Cryptocurrencies with K-means Using the PCA Data"
   ]
  },
  {
   "cell_type": "code",
   "execution_count": null,
   "metadata": {},
   "outputs": [],
   "source": [
    "# Initialize the K-Means model using the best value for k\n",
    "best_k = 4\n",
    "kmeans_pca = KMeans(n_clusters=best_k, random_state=0)\n"
   ]
  },
  {
   "cell_type": "code",
   "execution_count": null,
   "metadata": {},
   "outputs": [],
   "source": [
    "# Fit the K-Means model using the PCA data\n",
    "kmeans_pca.fit(pca_df)"
   ]
  },
  {
   "cell_type": "code",
   "execution_count": null,
   "metadata": {},
   "outputs": [],
   "source": [
    "# Predict the clusters to group the cryptocurrencies using the PCA data\n",
    "clusters_pca = kmeans_pca.predict(pca_df)\n",
    "\n",
    "# Print the resulting array of cluster values.\n",
    "clusters_pca"
   ]
  },
  {
   "cell_type": "code",
   "execution_count": null,
   "metadata": {},
   "outputs": [],
   "source": [
    "# Create a copy of the DataFrame with the PCA data\n",
    "pca_clustered_df = pca_df.copy()\n",
    "\n",
    "# Add a new column to the DataFrame with the predicted clusters\n",
    "pca_clustered_df[\"Cluster\"] = clusters_pca\n",
    "\n",
    "# Display sample data\n",
    "pca_clustered_df.head()"
   ]
  },
  {
   "cell_type": "code",
   "execution_count": null,
   "metadata": {},
   "outputs": [],
   "source": [
    "# Create a scatter plot using hvPlot by setting `x=\"PCA1\"` and `y=\"PCA2\"`. \n",
    "pca_clustered_df.plot.scatter(x=\"PC1\",y='PC2',c=\"Cluster\",colormap=\"rainbow\")"
   ]
  },
  {
   "cell_type": "markdown",
   "metadata": {},
   "source": [
    "### Determine the Weights of Each Feature on each Principal Component"
   ]
  },
  {
   "cell_type": "code",
   "execution_count": null,
   "metadata": {},
   "outputs": [],
   "source": [
    "# Use the columns from the original scaled DataFrame as the index.\n",
    "weights = pd.DataFrame(pca.components_.T,columns=[\"PC1\",\"PC2\",\"PC3\"],index=scaled_df.columns)\n",
    "#Display weights\n",
    "weights"
   ]
  },
  {
   "cell_type": "markdown",
   "metadata": {},
   "source": [
    "#### Answer the following question: \n",
    "\n",
    "* **Question:** Which features have the strongest positive or negative influence on each component? \n",
    " \n",
    "* **Answer:** Price change percentage 200d and 1y have most positive influence on the PC1 while 24h and 7d have the strongest negative influence.  PC2 is dominated by 14d and 30d while has the most negative influence from 1y. Lastly PC3 is dominated most by 7d while has the most negative influence from 60d and 24h.\n",
    "    "
   ]
  }
 ],
 "metadata": {
  "kernelspec": {
   "display_name": "Python 3 (ipykernel)",
   "language": "python",
   "name": "python3"
  },
  "language_info": {
   "codemirror_mode": {
    "name": "ipython",
    "version": 3
   },
   "file_extension": ".py",
   "mimetype": "text/x-python",
   "name": "python",
   "nbconvert_exporter": "python",
   "pygments_lexer": "ipython3",
   "version": "3.10.14"
  },
  "nteract": {
   "version": "0.28.0"
  },
  "vscode": {
   "interpreter": {
    "hash": "40d3a090f54c6569ab1632332b64b2c03c39dcf918b08424e98f38b5ae0af88f"
   }
  }
 },
 "nbformat": 4,
 "nbformat_minor": 4
}
